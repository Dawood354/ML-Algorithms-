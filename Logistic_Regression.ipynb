{
  "cells": [
    {
      "cell_type": "markdown",
      "id": "d5623da8",
      "metadata": {
        "execution": {
          "iopub.execute_input": "2022-09-07T11:01:18.675845Z",
          "iopub.status.busy": "2022-09-07T11:01:18.675333Z",
          "iopub.status.idle": "2022-09-07T11:01:18.707097Z",
          "shell.execute_reply": "2022-09-07T11:01:18.705520Z",
          "shell.execute_reply.started": "2022-09-07T11:01:18.675741Z"
        },
        "papermill": {
          "duration": 0.013869,
          "end_time": "2023-01-03T17:00:50.833569",
          "exception": false,
          "start_time": "2023-01-03T17:00:50.819700",
          "status": "completed"
        },
        "tags": [],
        "id": "d5623da8"
      },
      "source": [
        "<span style=\"color:blue;font-weight:700;font-size:25px\">\n",
        "    Importing libraries\n",
        "</span>"
      ]
    },
    {
      "cell_type": "code",
      "execution_count": 109,
      "id": "6ba2ba62",
      "metadata": {
        "execution": {
          "iopub.execute_input": "2023-01-03T17:00:50.860344Z",
          "iopub.status.busy": "2023-01-03T17:00:50.859639Z",
          "iopub.status.idle": "2023-01-03T17:00:52.350356Z",
          "shell.execute_reply": "2023-01-03T17:00:52.349282Z"
        },
        "papermill": {
          "duration": 1.507534,
          "end_time": "2023-01-03T17:00:52.353322",
          "exception": false,
          "start_time": "2023-01-03T17:00:50.845788",
          "status": "completed"
        },
        "tags": [],
        "id": "6ba2ba62"
      },
      "outputs": [],
      "source": [
        "import pandas as pd\n",
        "import numpy as np\n",
        "import matplotlib.pyplot as plt\n",
        "import seaborn as sns\n",
        "from sklearn.model_selection import train_test_split\n",
        "from sklearn.linear_model import LogisticRegression\n",
        "from sklearn import metrics\n",
        "from sklearn.metrics import classification_report, confusion_matrix"
      ]
    },
    {
      "cell_type": "markdown",
      "id": "1914b626",
      "metadata": {
        "papermill": {
          "duration": 0.012115,
          "end_time": "2023-01-03T17:00:52.377700",
          "exception": false,
          "start_time": "2023-01-03T17:00:52.365585",
          "status": "completed"
        },
        "tags": [],
        "id": "1914b626"
      },
      "source": [
        "<span style=\"color:blue;font-weight:700;font-size:25px\">\n",
        "    Importing the dataset\n",
        "</span>"
      ]
    },
    {
      "cell_type": "code",
      "execution_count": 110,
      "id": "a07db157",
      "metadata": {
        "execution": {
          "iopub.execute_input": "2023-01-03T17:00:52.404049Z",
          "iopub.status.busy": "2023-01-03T17:00:52.403584Z",
          "iopub.status.idle": "2023-01-03T17:00:52.425116Z",
          "shell.execute_reply": "2023-01-03T17:00:52.424132Z"
        },
        "papermill": {
          "duration": 0.037965,
          "end_time": "2023-01-03T17:00:52.427787",
          "exception": false,
          "start_time": "2023-01-03T17:00:52.389822",
          "status": "completed"
        },
        "tags": [],
        "id": "a07db157"
      },
      "outputs": [],
      "source": [
        "data = pd.read_csv (\"/content/diabetes.csv\")"
      ]
    },
    {
      "cell_type": "markdown",
      "id": "43b6d3f7",
      "metadata": {
        "papermill": {
          "duration": 0.012039,
          "end_time": "2023-01-03T17:00:52.452371",
          "exception": false,
          "start_time": "2023-01-03T17:00:52.440332",
          "status": "completed"
        },
        "tags": [],
        "id": "43b6d3f7"
      },
      "source": [
        "<span style=\"color:blue;font-weight:700;font-size:25px\">\n",
        "    Creating a DataFrame\n",
        "</span>"
      ]
    },
    {
      "cell_type": "code",
      "execution_count": 111,
      "id": "466c5218",
      "metadata": {
        "execution": {
          "iopub.execute_input": "2023-01-03T17:00:52.478946Z",
          "iopub.status.busy": "2023-01-03T17:00:52.478165Z",
          "iopub.status.idle": "2023-01-03T17:00:52.504594Z",
          "shell.execute_reply": "2023-01-03T17:00:52.503635Z"
        },
        "papermill": {
          "duration": 0.042537,
          "end_time": "2023-01-03T17:00:52.507133",
          "exception": false,
          "start_time": "2023-01-03T17:00:52.464596",
          "status": "completed"
        },
        "tags": [],
        "colab": {
          "base_uri": "https://localhost:8080/",
          "height": 206
        },
        "id": "466c5218",
        "outputId": "46094e5d-963a-42f2-bf41-bb47a697fcb8"
      },
      "outputs": [
        {
          "output_type": "execute_result",
          "data": {
            "text/plain": [
              "   Pregnancies  Glucose  BloodPressure  SkinThickness  Insulin   BMI  \\\n",
              "0            6      148             72             35        0  33.6   \n",
              "1            1       85             66             29        0  26.6   \n",
              "2            8      183             64              0        0  23.3   \n",
              "3            1       89             66             23       94  28.1   \n",
              "4            0      137             40             35      168  43.1   \n",
              "\n",
              "   DiabetesPedigreeFunction  Age  Outcome  \n",
              "0                     0.627   50        1  \n",
              "1                     0.351   31        0  \n",
              "2                     0.672   32        1  \n",
              "3                     0.167   21        0  \n",
              "4                     2.288   33        1  "
            ],
            "text/html": [
              "\n",
              "  <div id=\"df-9caf3120-33bf-46eb-a0ef-bf486a8ffa47\" class=\"colab-df-container\">\n",
              "    <div>\n",
              "<style scoped>\n",
              "    .dataframe tbody tr th:only-of-type {\n",
              "        vertical-align: middle;\n",
              "    }\n",
              "\n",
              "    .dataframe tbody tr th {\n",
              "        vertical-align: top;\n",
              "    }\n",
              "\n",
              "    .dataframe thead th {\n",
              "        text-align: right;\n",
              "    }\n",
              "</style>\n",
              "<table border=\"1\" class=\"dataframe\">\n",
              "  <thead>\n",
              "    <tr style=\"text-align: right;\">\n",
              "      <th></th>\n",
              "      <th>Pregnancies</th>\n",
              "      <th>Glucose</th>\n",
              "      <th>BloodPressure</th>\n",
              "      <th>SkinThickness</th>\n",
              "      <th>Insulin</th>\n",
              "      <th>BMI</th>\n",
              "      <th>DiabetesPedigreeFunction</th>\n",
              "      <th>Age</th>\n",
              "      <th>Outcome</th>\n",
              "    </tr>\n",
              "  </thead>\n",
              "  <tbody>\n",
              "    <tr>\n",
              "      <th>0</th>\n",
              "      <td>6</td>\n",
              "      <td>148</td>\n",
              "      <td>72</td>\n",
              "      <td>35</td>\n",
              "      <td>0</td>\n",
              "      <td>33.6</td>\n",
              "      <td>0.627</td>\n",
              "      <td>50</td>\n",
              "      <td>1</td>\n",
              "    </tr>\n",
              "    <tr>\n",
              "      <th>1</th>\n",
              "      <td>1</td>\n",
              "      <td>85</td>\n",
              "      <td>66</td>\n",
              "      <td>29</td>\n",
              "      <td>0</td>\n",
              "      <td>26.6</td>\n",
              "      <td>0.351</td>\n",
              "      <td>31</td>\n",
              "      <td>0</td>\n",
              "    </tr>\n",
              "    <tr>\n",
              "      <th>2</th>\n",
              "      <td>8</td>\n",
              "      <td>183</td>\n",
              "      <td>64</td>\n",
              "      <td>0</td>\n",
              "      <td>0</td>\n",
              "      <td>23.3</td>\n",
              "      <td>0.672</td>\n",
              "      <td>32</td>\n",
              "      <td>1</td>\n",
              "    </tr>\n",
              "    <tr>\n",
              "      <th>3</th>\n",
              "      <td>1</td>\n",
              "      <td>89</td>\n",
              "      <td>66</td>\n",
              "      <td>23</td>\n",
              "      <td>94</td>\n",
              "      <td>28.1</td>\n",
              "      <td>0.167</td>\n",
              "      <td>21</td>\n",
              "      <td>0</td>\n",
              "    </tr>\n",
              "    <tr>\n",
              "      <th>4</th>\n",
              "      <td>0</td>\n",
              "      <td>137</td>\n",
              "      <td>40</td>\n",
              "      <td>35</td>\n",
              "      <td>168</td>\n",
              "      <td>43.1</td>\n",
              "      <td>2.288</td>\n",
              "      <td>33</td>\n",
              "      <td>1</td>\n",
              "    </tr>\n",
              "  </tbody>\n",
              "</table>\n",
              "</div>\n",
              "    <div class=\"colab-df-buttons\">\n",
              "\n",
              "  <div class=\"colab-df-container\">\n",
              "    <button class=\"colab-df-convert\" onclick=\"convertToInteractive('df-9caf3120-33bf-46eb-a0ef-bf486a8ffa47')\"\n",
              "            title=\"Convert this dataframe to an interactive table.\"\n",
              "            style=\"display:none;\">\n",
              "\n",
              "  <svg xmlns=\"http://www.w3.org/2000/svg\" height=\"24px\" viewBox=\"0 -960 960 960\">\n",
              "    <path d=\"M120-120v-720h720v720H120Zm60-500h600v-160H180v160Zm220 220h160v-160H400v160Zm0 220h160v-160H400v160ZM180-400h160v-160H180v160Zm440 0h160v-160H620v160ZM180-180h160v-160H180v160Zm440 0h160v-160H620v160Z\"/>\n",
              "  </svg>\n",
              "    </button>\n",
              "\n",
              "  <style>\n",
              "    .colab-df-container {\n",
              "      display:flex;\n",
              "      gap: 12px;\n",
              "    }\n",
              "\n",
              "    .colab-df-convert {\n",
              "      background-color: #E8F0FE;\n",
              "      border: none;\n",
              "      border-radius: 50%;\n",
              "      cursor: pointer;\n",
              "      display: none;\n",
              "      fill: #1967D2;\n",
              "      height: 32px;\n",
              "      padding: 0 0 0 0;\n",
              "      width: 32px;\n",
              "    }\n",
              "\n",
              "    .colab-df-convert:hover {\n",
              "      background-color: #E2EBFA;\n",
              "      box-shadow: 0px 1px 2px rgba(60, 64, 67, 0.3), 0px 1px 3px 1px rgba(60, 64, 67, 0.15);\n",
              "      fill: #174EA6;\n",
              "    }\n",
              "\n",
              "    .colab-df-buttons div {\n",
              "      margin-bottom: 4px;\n",
              "    }\n",
              "\n",
              "    [theme=dark] .colab-df-convert {\n",
              "      background-color: #3B4455;\n",
              "      fill: #D2E3FC;\n",
              "    }\n",
              "\n",
              "    [theme=dark] .colab-df-convert:hover {\n",
              "      background-color: #434B5C;\n",
              "      box-shadow: 0px 1px 3px 1px rgba(0, 0, 0, 0.15);\n",
              "      filter: drop-shadow(0px 1px 2px rgba(0, 0, 0, 0.3));\n",
              "      fill: #FFFFFF;\n",
              "    }\n",
              "  </style>\n",
              "\n",
              "    <script>\n",
              "      const buttonEl =\n",
              "        document.querySelector('#df-9caf3120-33bf-46eb-a0ef-bf486a8ffa47 button.colab-df-convert');\n",
              "      buttonEl.style.display =\n",
              "        google.colab.kernel.accessAllowed ? 'block' : 'none';\n",
              "\n",
              "      async function convertToInteractive(key) {\n",
              "        const element = document.querySelector('#df-9caf3120-33bf-46eb-a0ef-bf486a8ffa47');\n",
              "        const dataTable =\n",
              "          await google.colab.kernel.invokeFunction('convertToInteractive',\n",
              "                                                    [key], {});\n",
              "        if (!dataTable) return;\n",
              "\n",
              "        const docLinkHtml = 'Like what you see? Visit the ' +\n",
              "          '<a target=\"_blank\" href=https://colab.research.google.com/notebooks/data_table.ipynb>data table notebook</a>'\n",
              "          + ' to learn more about interactive tables.';\n",
              "        element.innerHTML = '';\n",
              "        dataTable['output_type'] = 'display_data';\n",
              "        await google.colab.output.renderOutput(dataTable, element);\n",
              "        const docLink = document.createElement('div');\n",
              "        docLink.innerHTML = docLinkHtml;\n",
              "        element.appendChild(docLink);\n",
              "      }\n",
              "    </script>\n",
              "  </div>\n",
              "\n",
              "\n",
              "<div id=\"df-d6c63657-41a1-432d-80e7-790d92e93b6a\">\n",
              "  <button class=\"colab-df-quickchart\" onclick=\"quickchart('df-d6c63657-41a1-432d-80e7-790d92e93b6a')\"\n",
              "            title=\"Suggest charts\"\n",
              "            style=\"display:none;\">\n",
              "\n",
              "<svg xmlns=\"http://www.w3.org/2000/svg\" height=\"24px\"viewBox=\"0 0 24 24\"\n",
              "     width=\"24px\">\n",
              "    <g>\n",
              "        <path d=\"M19 3H5c-1.1 0-2 .9-2 2v14c0 1.1.9 2 2 2h14c1.1 0 2-.9 2-2V5c0-1.1-.9-2-2-2zM9 17H7v-7h2v7zm4 0h-2V7h2v10zm4 0h-2v-4h2v4z\"/>\n",
              "    </g>\n",
              "</svg>\n",
              "  </button>\n",
              "\n",
              "<style>\n",
              "  .colab-df-quickchart {\n",
              "      --bg-color: #E8F0FE;\n",
              "      --fill-color: #1967D2;\n",
              "      --hover-bg-color: #E2EBFA;\n",
              "      --hover-fill-color: #174EA6;\n",
              "      --disabled-fill-color: #AAA;\n",
              "      --disabled-bg-color: #DDD;\n",
              "  }\n",
              "\n",
              "  [theme=dark] .colab-df-quickchart {\n",
              "      --bg-color: #3B4455;\n",
              "      --fill-color: #D2E3FC;\n",
              "      --hover-bg-color: #434B5C;\n",
              "      --hover-fill-color: #FFFFFF;\n",
              "      --disabled-bg-color: #3B4455;\n",
              "      --disabled-fill-color: #666;\n",
              "  }\n",
              "\n",
              "  .colab-df-quickchart {\n",
              "    background-color: var(--bg-color);\n",
              "    border: none;\n",
              "    border-radius: 50%;\n",
              "    cursor: pointer;\n",
              "    display: none;\n",
              "    fill: var(--fill-color);\n",
              "    height: 32px;\n",
              "    padding: 0;\n",
              "    width: 32px;\n",
              "  }\n",
              "\n",
              "  .colab-df-quickchart:hover {\n",
              "    background-color: var(--hover-bg-color);\n",
              "    box-shadow: 0 1px 2px rgba(60, 64, 67, 0.3), 0 1px 3px 1px rgba(60, 64, 67, 0.15);\n",
              "    fill: var(--button-hover-fill-color);\n",
              "  }\n",
              "\n",
              "  .colab-df-quickchart-complete:disabled,\n",
              "  .colab-df-quickchart-complete:disabled:hover {\n",
              "    background-color: var(--disabled-bg-color);\n",
              "    fill: var(--disabled-fill-color);\n",
              "    box-shadow: none;\n",
              "  }\n",
              "\n",
              "  .colab-df-spinner {\n",
              "    border: 2px solid var(--fill-color);\n",
              "    border-color: transparent;\n",
              "    border-bottom-color: var(--fill-color);\n",
              "    animation:\n",
              "      spin 1s steps(1) infinite;\n",
              "  }\n",
              "\n",
              "  @keyframes spin {\n",
              "    0% {\n",
              "      border-color: transparent;\n",
              "      border-bottom-color: var(--fill-color);\n",
              "      border-left-color: var(--fill-color);\n",
              "    }\n",
              "    20% {\n",
              "      border-color: transparent;\n",
              "      border-left-color: var(--fill-color);\n",
              "      border-top-color: var(--fill-color);\n",
              "    }\n",
              "    30% {\n",
              "      border-color: transparent;\n",
              "      border-left-color: var(--fill-color);\n",
              "      border-top-color: var(--fill-color);\n",
              "      border-right-color: var(--fill-color);\n",
              "    }\n",
              "    40% {\n",
              "      border-color: transparent;\n",
              "      border-right-color: var(--fill-color);\n",
              "      border-top-color: var(--fill-color);\n",
              "    }\n",
              "    60% {\n",
              "      border-color: transparent;\n",
              "      border-right-color: var(--fill-color);\n",
              "    }\n",
              "    80% {\n",
              "      border-color: transparent;\n",
              "      border-right-color: var(--fill-color);\n",
              "      border-bottom-color: var(--fill-color);\n",
              "    }\n",
              "    90% {\n",
              "      border-color: transparent;\n",
              "      border-bottom-color: var(--fill-color);\n",
              "    }\n",
              "  }\n",
              "</style>\n",
              "\n",
              "  <script>\n",
              "    async function quickchart(key) {\n",
              "      const quickchartButtonEl =\n",
              "        document.querySelector('#' + key + ' button');\n",
              "      quickchartButtonEl.disabled = true;  // To prevent multiple clicks.\n",
              "      quickchartButtonEl.classList.add('colab-df-spinner');\n",
              "      try {\n",
              "        const charts = await google.colab.kernel.invokeFunction(\n",
              "            'suggestCharts', [key], {});\n",
              "      } catch (error) {\n",
              "        console.error('Error during call to suggestCharts:', error);\n",
              "      }\n",
              "      quickchartButtonEl.classList.remove('colab-df-spinner');\n",
              "      quickchartButtonEl.classList.add('colab-df-quickchart-complete');\n",
              "    }\n",
              "    (() => {\n",
              "      let quickchartButtonEl =\n",
              "        document.querySelector('#df-d6c63657-41a1-432d-80e7-790d92e93b6a button');\n",
              "      quickchartButtonEl.style.display =\n",
              "        google.colab.kernel.accessAllowed ? 'block' : 'none';\n",
              "    })();\n",
              "  </script>\n",
              "</div>\n",
              "    </div>\n",
              "  </div>\n"
            ],
            "application/vnd.google.colaboratory.intrinsic+json": {
              "type": "dataframe",
              "variable_name": "df",
              "summary": "{\n  \"name\": \"df\",\n  \"rows\": 768,\n  \"fields\": [\n    {\n      \"column\": \"Pregnancies\",\n      \"properties\": {\n        \"dtype\": \"number\",\n        \"std\": 3,\n        \"min\": 0,\n        \"max\": 17,\n        \"num_unique_values\": 17,\n        \"samples\": [\n          6,\n          1,\n          3\n        ],\n        \"semantic_type\": \"\",\n        \"description\": \"\"\n      }\n    },\n    {\n      \"column\": \"Glucose\",\n      \"properties\": {\n        \"dtype\": \"number\",\n        \"std\": 31,\n        \"min\": 0,\n        \"max\": 199,\n        \"num_unique_values\": 136,\n        \"samples\": [\n          151,\n          101,\n          112\n        ],\n        \"semantic_type\": \"\",\n        \"description\": \"\"\n      }\n    },\n    {\n      \"column\": \"BloodPressure\",\n      \"properties\": {\n        \"dtype\": \"number\",\n        \"std\": 19,\n        \"min\": 0,\n        \"max\": 122,\n        \"num_unique_values\": 47,\n        \"samples\": [\n          86,\n          46,\n          85\n        ],\n        \"semantic_type\": \"\",\n        \"description\": \"\"\n      }\n    },\n    {\n      \"column\": \"SkinThickness\",\n      \"properties\": {\n        \"dtype\": \"number\",\n        \"std\": 15,\n        \"min\": 0,\n        \"max\": 99,\n        \"num_unique_values\": 51,\n        \"samples\": [\n          7,\n          12,\n          48\n        ],\n        \"semantic_type\": \"\",\n        \"description\": \"\"\n      }\n    },\n    {\n      \"column\": \"Insulin\",\n      \"properties\": {\n        \"dtype\": \"number\",\n        \"std\": 115,\n        \"min\": 0,\n        \"max\": 846,\n        \"num_unique_values\": 186,\n        \"samples\": [\n          52,\n          41,\n          183\n        ],\n        \"semantic_type\": \"\",\n        \"description\": \"\"\n      }\n    },\n    {\n      \"column\": \"BMI\",\n      \"properties\": {\n        \"dtype\": \"number\",\n        \"std\": 7.884160320375446,\n        \"min\": 0.0,\n        \"max\": 67.1,\n        \"num_unique_values\": 248,\n        \"samples\": [\n          19.9,\n          31.0,\n          38.1\n        ],\n        \"semantic_type\": \"\",\n        \"description\": \"\"\n      }\n    },\n    {\n      \"column\": \"DiabetesPedigreeFunction\",\n      \"properties\": {\n        \"dtype\": \"number\",\n        \"std\": 0.3313285950127749,\n        \"min\": 0.078,\n        \"max\": 2.42,\n        \"num_unique_values\": 517,\n        \"samples\": [\n          1.731,\n          0.426,\n          0.138\n        ],\n        \"semantic_type\": \"\",\n        \"description\": \"\"\n      }\n    },\n    {\n      \"column\": \"Age\",\n      \"properties\": {\n        \"dtype\": \"number\",\n        \"std\": 11,\n        \"min\": 21,\n        \"max\": 81,\n        \"num_unique_values\": 52,\n        \"samples\": [\n          60,\n          47,\n          72\n        ],\n        \"semantic_type\": \"\",\n        \"description\": \"\"\n      }\n    },\n    {\n      \"column\": \"Outcome\",\n      \"properties\": {\n        \"dtype\": \"number\",\n        \"std\": 0,\n        \"min\": 0,\n        \"max\": 1,\n        \"num_unique_values\": 2,\n        \"samples\": [\n          0,\n          1\n        ],\n        \"semantic_type\": \"\",\n        \"description\": \"\"\n      }\n    }\n  ]\n}"
            }
          },
          "metadata": {},
          "execution_count": 111
        }
      ],
      "source": [
        "df = pd.DataFrame (data)\n",
        "df.head()"
      ]
    },
    {
      "cell_type": "markdown",
      "id": "04e7242b",
      "metadata": {
        "papermill": {
          "duration": 0.012177,
          "end_time": "2023-01-03T17:00:52.531906",
          "exception": false,
          "start_time": "2023-01-03T17:00:52.519729",
          "status": "completed"
        },
        "tags": [],
        "id": "04e7242b"
      },
      "source": [
        "<span style=\"color:blue;font-weight:700;font-size:25px\">\n",
        "    Data Shape and information\n",
        "</span>"
      ]
    },
    {
      "cell_type": "code",
      "execution_count": 112,
      "id": "3c8931d0",
      "metadata": {
        "execution": {
          "iopub.execute_input": "2023-01-03T17:00:52.597243Z",
          "iopub.status.busy": "2023-01-03T17:00:52.596372Z",
          "iopub.status.idle": "2023-01-03T17:00:52.626150Z",
          "shell.execute_reply": "2023-01-03T17:00:52.624312Z"
        },
        "papermill": {
          "duration": 0.047019,
          "end_time": "2023-01-03T17:00:52.629124",
          "exception": false,
          "start_time": "2023-01-03T17:00:52.582105",
          "status": "completed"
        },
        "tags": [],
        "colab": {
          "base_uri": "https://localhost:8080/"
        },
        "id": "3c8931d0",
        "outputId": "30d2fd08-402a-467e-d96b-c3dd1759a890"
      },
      "outputs": [
        {
          "output_type": "stream",
          "name": "stdout",
          "text": [
            "<class 'pandas.core.frame.DataFrame'>\n",
            "RangeIndex: 768 entries, 0 to 767\n",
            "Data columns (total 9 columns):\n",
            " #   Column                    Non-Null Count  Dtype  \n",
            "---  ------                    --------------  -----  \n",
            " 0   Pregnancies               768 non-null    int64  \n",
            " 1   Glucose                   768 non-null    int64  \n",
            " 2   BloodPressure             768 non-null    int64  \n",
            " 3   SkinThickness             768 non-null    int64  \n",
            " 4   Insulin                   768 non-null    int64  \n",
            " 5   BMI                       768 non-null    float64\n",
            " 6   DiabetesPedigreeFunction  768 non-null    float64\n",
            " 7   Age                       768 non-null    int64  \n",
            " 8   Outcome                   768 non-null    int64  \n",
            "dtypes: float64(2), int64(7)\n",
            "memory usage: 54.1 KB\n"
          ]
        }
      ],
      "source": [
        "df.info ()"
      ]
    },
    {
      "cell_type": "code",
      "execution_count": 113,
      "id": "6f412587",
      "metadata": {
        "execution": {
          "iopub.execute_input": "2023-01-03T17:00:52.730373Z",
          "iopub.status.busy": "2023-01-03T17:00:52.729942Z",
          "iopub.status.idle": "2023-01-03T17:00:52.737999Z",
          "shell.execute_reply": "2023-01-03T17:00:52.736712Z"
        },
        "papermill": {
          "duration": 0.024267,
          "end_time": "2023-01-03T17:00:52.740069",
          "exception": false,
          "start_time": "2023-01-03T17:00:52.715802",
          "status": "completed"
        },
        "tags": [],
        "colab": {
          "base_uri": "https://localhost:8080/"
        },
        "id": "6f412587",
        "outputId": "0d34495e-6ef6-4673-9bb3-4a30cd730856"
      },
      "outputs": [
        {
          "output_type": "execute_result",
          "data": {
            "text/plain": [
              "Index(['Pregnancies', 'Glucose', 'BloodPressure', 'SkinThickness', 'Insulin',\n",
              "       'BMI', 'DiabetesPedigreeFunction', 'Age', 'Outcome'],\n",
              "      dtype='object')"
            ]
          },
          "metadata": {},
          "execution_count": 113
        }
      ],
      "source": [
        "df.columns"
      ]
    },
    {
      "cell_type": "markdown",
      "id": "86e84b03",
      "metadata": {
        "papermill": {
          "duration": 0.012458,
          "end_time": "2023-01-03T17:00:52.765400",
          "exception": false,
          "start_time": "2023-01-03T17:00:52.752942",
          "status": "completed"
        },
        "tags": [],
        "id": "86e84b03"
      },
      "source": [
        "<span style=\"color:blue;font-weight:700;font-size:25px\">\n",
        "    Missing values:\n",
        "</span>"
      ]
    },
    {
      "cell_type": "code",
      "execution_count": 114,
      "id": "16db9af7",
      "metadata": {
        "execution": {
          "iopub.execute_input": "2023-01-03T17:00:52.793104Z",
          "iopub.status.busy": "2023-01-03T17:00:52.792583Z",
          "iopub.status.idle": "2023-01-03T17:00:52.802790Z",
          "shell.execute_reply": "2023-01-03T17:00:52.801551Z"
        },
        "papermill": {
          "duration": 0.026928,
          "end_time": "2023-01-03T17:00:52.804979",
          "exception": false,
          "start_time": "2023-01-03T17:00:52.778051",
          "status": "completed"
        },
        "tags": [],
        "colab": {
          "base_uri": "https://localhost:8080/"
        },
        "id": "16db9af7",
        "outputId": "42b7e297-1600-4306-f1d0-053584919a72"
      },
      "outputs": [
        {
          "output_type": "execute_result",
          "data": {
            "text/plain": [
              "Pregnancies                 0\n",
              "Glucose                     0\n",
              "BloodPressure               0\n",
              "SkinThickness               0\n",
              "Insulin                     0\n",
              "BMI                         0\n",
              "DiabetesPedigreeFunction    0\n",
              "Age                         0\n",
              "Outcome                     0\n",
              "dtype: int64"
            ]
          },
          "metadata": {},
          "execution_count": 114
        }
      ],
      "source": [
        "df.isnull().sum()"
      ]
    },
    {
      "cell_type": "markdown",
      "id": "10e44c03",
      "metadata": {
        "papermill": {
          "duration": 0.01256,
          "end_time": "2023-01-03T17:00:52.830545",
          "exception": false,
          "start_time": "2023-01-03T17:00:52.817985",
          "status": "completed"
        },
        "tags": [],
        "id": "10e44c03"
      },
      "source": [
        "There is not any missing values."
      ]
    },
    {
      "cell_type": "markdown",
      "id": "dd1acf3a",
      "metadata": {
        "papermill": {
          "duration": 0.01245,
          "end_time": "2023-01-03T17:00:52.855888",
          "exception": false,
          "start_time": "2023-01-03T17:00:52.843438",
          "status": "completed"
        },
        "tags": [],
        "id": "dd1acf3a"
      },
      "source": [
        "<span style=\"color:blue;font-weight:700;font-size:25px\">\n",
        "    Observation:\n",
        "</span>"
      ]
    },
    {
      "cell_type": "markdown",
      "id": "4cde65bf",
      "metadata": {
        "papermill": {
          "duration": 0.012604,
          "end_time": "2023-01-03T17:00:52.881332",
          "exception": false,
          "start_time": "2023-01-03T17:00:52.868728",
          "status": "completed"
        },
        "tags": [],
        "id": "4cde65bf"
      },
      "source": [
        "There are 8 features and 768 entires, all non-null. All of the features are numerical and the target is categorical."
      ]
    },
    {
      "cell_type": "markdown",
      "id": "7bfd705e",
      "metadata": {
        "papermill": {
          "duration": 0.012433,
          "end_time": "2023-01-03T17:00:52.907024",
          "exception": false,
          "start_time": "2023-01-03T17:00:52.894591",
          "status": "completed"
        },
        "tags": [],
        "id": "7bfd705e"
      },
      "source": [
        "<span style=\"color:blue;font-weight:700;font-size:25px\">\n",
        "    Duplicates values:\n",
        "</span>"
      ]
    },
    {
      "cell_type": "code",
      "execution_count": 115,
      "id": "fff13eae",
      "metadata": {
        "execution": {
          "iopub.execute_input": "2023-01-03T17:00:52.934556Z",
          "iopub.status.busy": "2023-01-03T17:00:52.934145Z",
          "iopub.status.idle": "2023-01-03T17:00:52.943920Z",
          "shell.execute_reply": "2023-01-03T17:00:52.942445Z"
        },
        "papermill": {
          "duration": 0.026226,
          "end_time": "2023-01-03T17:00:52.946074",
          "exception": false,
          "start_time": "2023-01-03T17:00:52.919848",
          "status": "completed"
        },
        "tags": [],
        "colab": {
          "base_uri": "https://localhost:8080/"
        },
        "id": "fff13eae",
        "outputId": "3e3719d2-d0a9-45ed-cb0f-41cc760e5df4"
      },
      "outputs": [
        {
          "output_type": "stream",
          "name": "stdout",
          "text": [
            "Duplicate values in df are: 0\n"
          ]
        }
      ],
      "source": [
        "print (\"Duplicate values in df are:\" , df.duplicated().sum())"
      ]
    },
    {
      "cell_type": "markdown",
      "id": "59b878a7",
      "metadata": {
        "execution": {
          "iopub.execute_input": "2022-09-07T11:49:28.697231Z",
          "iopub.status.busy": "2022-09-07T11:49:28.696274Z",
          "iopub.status.idle": "2022-09-07T11:49:28.704565Z",
          "shell.execute_reply": "2022-09-07T11:49:28.702889Z",
          "shell.execute_reply.started": "2022-09-07T11:49:28.697191Z"
        },
        "papermill": {
          "duration": 0.012593,
          "end_time": "2023-01-03T17:00:52.971516",
          "exception": false,
          "start_time": "2023-01-03T17:00:52.958923",
          "status": "completed"
        },
        "tags": [],
        "id": "59b878a7"
      },
      "source": [
        "<span style=\"color:blue;font-weight:700;font-size:25px\">\n",
        "    Unique categories of Categorical Variables\n",
        "</span>  "
      ]
    },
    {
      "cell_type": "code",
      "execution_count": 116,
      "id": "f80ec755",
      "metadata": {
        "execution": {
          "iopub.execute_input": "2023-01-03T17:00:52.999458Z",
          "iopub.status.busy": "2023-01-03T17:00:52.998993Z",
          "iopub.status.idle": "2023-01-03T17:00:53.007440Z",
          "shell.execute_reply": "2023-01-03T17:00:53.006141Z"
        },
        "papermill": {
          "duration": 0.025981,
          "end_time": "2023-01-03T17:00:53.010376",
          "exception": false,
          "start_time": "2023-01-03T17:00:52.984395",
          "status": "completed"
        },
        "tags": [],
        "colab": {
          "base_uri": "https://localhost:8080/"
        },
        "id": "f80ec755",
        "outputId": "0674c998-90f4-4770-d11e-47a438847f8a"
      },
      "outputs": [
        {
          "output_type": "stream",
          "name": "stdout",
          "text": [
            "[1 0]\n"
          ]
        }
      ],
      "source": [
        "print(df['Outcome'].unique())"
      ]
    },
    {
      "cell_type": "markdown",
      "id": "f0717faa",
      "metadata": {
        "papermill": {
          "duration": 0.012676,
          "end_time": "2023-01-03T17:00:53.036294",
          "exception": false,
          "start_time": "2023-01-03T17:00:53.023618",
          "status": "completed"
        },
        "tags": [],
        "id": "f0717faa"
      },
      "source": [
        "<span style=\"color:blue;font-weight:700;font-size:25px\">\n",
        "    Correlation\n",
        "</span>"
      ]
    },
    {
      "cell_type": "code",
      "execution_count": 117,
      "id": "ab3e595f",
      "metadata": {
        "execution": {
          "iopub.execute_input": "2023-01-03T17:00:53.063989Z",
          "iopub.status.busy": "2023-01-03T17:00:53.063589Z",
          "iopub.status.idle": "2023-01-03T17:00:53.084211Z",
          "shell.execute_reply": "2023-01-03T17:00:53.083299Z"
        },
        "papermill": {
          "duration": 0.037445,
          "end_time": "2023-01-03T17:00:53.086601",
          "exception": false,
          "start_time": "2023-01-03T17:00:53.049156",
          "status": "completed"
        },
        "tags": [],
        "colab": {
          "base_uri": "https://localhost:8080/",
          "height": 332
        },
        "id": "ab3e595f",
        "outputId": "8d83dee5-f535-48c3-dfee-7596d952f944"
      },
      "outputs": [
        {
          "output_type": "execute_result",
          "data": {
            "text/plain": [
              "                          Pregnancies   Glucose  BloodPressure  SkinThickness  \\\n",
              "Pregnancies                  1.000000  0.129459       0.141282      -0.081672   \n",
              "Glucose                      0.129459  1.000000       0.152590       0.057328   \n",
              "BloodPressure                0.141282  0.152590       1.000000       0.207371   \n",
              "SkinThickness               -0.081672  0.057328       0.207371       1.000000   \n",
              "Insulin                     -0.073535  0.331357       0.088933       0.436783   \n",
              "BMI                          0.017683  0.221071       0.281805       0.392573   \n",
              "DiabetesPedigreeFunction    -0.033523  0.137337       0.041265       0.183928   \n",
              "Age                          0.544341  0.263514       0.239528      -0.113970   \n",
              "Outcome                      0.221898  0.466581       0.065068       0.074752   \n",
              "\n",
              "                           Insulin       BMI  DiabetesPedigreeFunction  \\\n",
              "Pregnancies              -0.073535  0.017683                 -0.033523   \n",
              "Glucose                   0.331357  0.221071                  0.137337   \n",
              "BloodPressure             0.088933  0.281805                  0.041265   \n",
              "SkinThickness             0.436783  0.392573                  0.183928   \n",
              "Insulin                   1.000000  0.197859                  0.185071   \n",
              "BMI                       0.197859  1.000000                  0.140647   \n",
              "DiabetesPedigreeFunction  0.185071  0.140647                  1.000000   \n",
              "Age                      -0.042163  0.036242                  0.033561   \n",
              "Outcome                   0.130548  0.292695                  0.173844   \n",
              "\n",
              "                               Age   Outcome  \n",
              "Pregnancies               0.544341  0.221898  \n",
              "Glucose                   0.263514  0.466581  \n",
              "BloodPressure             0.239528  0.065068  \n",
              "SkinThickness            -0.113970  0.074752  \n",
              "Insulin                  -0.042163  0.130548  \n",
              "BMI                       0.036242  0.292695  \n",
              "DiabetesPedigreeFunction  0.033561  0.173844  \n",
              "Age                       1.000000  0.238356  \n",
              "Outcome                   0.238356  1.000000  "
            ],
            "text/html": [
              "\n",
              "  <div id=\"df-30a6d9e4-cbe0-400a-af8a-7e98cdf9cb6f\" class=\"colab-df-container\">\n",
              "    <div>\n",
              "<style scoped>\n",
              "    .dataframe tbody tr th:only-of-type {\n",
              "        vertical-align: middle;\n",
              "    }\n",
              "\n",
              "    .dataframe tbody tr th {\n",
              "        vertical-align: top;\n",
              "    }\n",
              "\n",
              "    .dataframe thead th {\n",
              "        text-align: right;\n",
              "    }\n",
              "</style>\n",
              "<table border=\"1\" class=\"dataframe\">\n",
              "  <thead>\n",
              "    <tr style=\"text-align: right;\">\n",
              "      <th></th>\n",
              "      <th>Pregnancies</th>\n",
              "      <th>Glucose</th>\n",
              "      <th>BloodPressure</th>\n",
              "      <th>SkinThickness</th>\n",
              "      <th>Insulin</th>\n",
              "      <th>BMI</th>\n",
              "      <th>DiabetesPedigreeFunction</th>\n",
              "      <th>Age</th>\n",
              "      <th>Outcome</th>\n",
              "    </tr>\n",
              "  </thead>\n",
              "  <tbody>\n",
              "    <tr>\n",
              "      <th>Pregnancies</th>\n",
              "      <td>1.000000</td>\n",
              "      <td>0.129459</td>\n",
              "      <td>0.141282</td>\n",
              "      <td>-0.081672</td>\n",
              "      <td>-0.073535</td>\n",
              "      <td>0.017683</td>\n",
              "      <td>-0.033523</td>\n",
              "      <td>0.544341</td>\n",
              "      <td>0.221898</td>\n",
              "    </tr>\n",
              "    <tr>\n",
              "      <th>Glucose</th>\n",
              "      <td>0.129459</td>\n",
              "      <td>1.000000</td>\n",
              "      <td>0.152590</td>\n",
              "      <td>0.057328</td>\n",
              "      <td>0.331357</td>\n",
              "      <td>0.221071</td>\n",
              "      <td>0.137337</td>\n",
              "      <td>0.263514</td>\n",
              "      <td>0.466581</td>\n",
              "    </tr>\n",
              "    <tr>\n",
              "      <th>BloodPressure</th>\n",
              "      <td>0.141282</td>\n",
              "      <td>0.152590</td>\n",
              "      <td>1.000000</td>\n",
              "      <td>0.207371</td>\n",
              "      <td>0.088933</td>\n",
              "      <td>0.281805</td>\n",
              "      <td>0.041265</td>\n",
              "      <td>0.239528</td>\n",
              "      <td>0.065068</td>\n",
              "    </tr>\n",
              "    <tr>\n",
              "      <th>SkinThickness</th>\n",
              "      <td>-0.081672</td>\n",
              "      <td>0.057328</td>\n",
              "      <td>0.207371</td>\n",
              "      <td>1.000000</td>\n",
              "      <td>0.436783</td>\n",
              "      <td>0.392573</td>\n",
              "      <td>0.183928</td>\n",
              "      <td>-0.113970</td>\n",
              "      <td>0.074752</td>\n",
              "    </tr>\n",
              "    <tr>\n",
              "      <th>Insulin</th>\n",
              "      <td>-0.073535</td>\n",
              "      <td>0.331357</td>\n",
              "      <td>0.088933</td>\n",
              "      <td>0.436783</td>\n",
              "      <td>1.000000</td>\n",
              "      <td>0.197859</td>\n",
              "      <td>0.185071</td>\n",
              "      <td>-0.042163</td>\n",
              "      <td>0.130548</td>\n",
              "    </tr>\n",
              "    <tr>\n",
              "      <th>BMI</th>\n",
              "      <td>0.017683</td>\n",
              "      <td>0.221071</td>\n",
              "      <td>0.281805</td>\n",
              "      <td>0.392573</td>\n",
              "      <td>0.197859</td>\n",
              "      <td>1.000000</td>\n",
              "      <td>0.140647</td>\n",
              "      <td>0.036242</td>\n",
              "      <td>0.292695</td>\n",
              "    </tr>\n",
              "    <tr>\n",
              "      <th>DiabetesPedigreeFunction</th>\n",
              "      <td>-0.033523</td>\n",
              "      <td>0.137337</td>\n",
              "      <td>0.041265</td>\n",
              "      <td>0.183928</td>\n",
              "      <td>0.185071</td>\n",
              "      <td>0.140647</td>\n",
              "      <td>1.000000</td>\n",
              "      <td>0.033561</td>\n",
              "      <td>0.173844</td>\n",
              "    </tr>\n",
              "    <tr>\n",
              "      <th>Age</th>\n",
              "      <td>0.544341</td>\n",
              "      <td>0.263514</td>\n",
              "      <td>0.239528</td>\n",
              "      <td>-0.113970</td>\n",
              "      <td>-0.042163</td>\n",
              "      <td>0.036242</td>\n",
              "      <td>0.033561</td>\n",
              "      <td>1.000000</td>\n",
              "      <td>0.238356</td>\n",
              "    </tr>\n",
              "    <tr>\n",
              "      <th>Outcome</th>\n",
              "      <td>0.221898</td>\n",
              "      <td>0.466581</td>\n",
              "      <td>0.065068</td>\n",
              "      <td>0.074752</td>\n",
              "      <td>0.130548</td>\n",
              "      <td>0.292695</td>\n",
              "      <td>0.173844</td>\n",
              "      <td>0.238356</td>\n",
              "      <td>1.000000</td>\n",
              "    </tr>\n",
              "  </tbody>\n",
              "</table>\n",
              "</div>\n",
              "    <div class=\"colab-df-buttons\">\n",
              "\n",
              "  <div class=\"colab-df-container\">\n",
              "    <button class=\"colab-df-convert\" onclick=\"convertToInteractive('df-30a6d9e4-cbe0-400a-af8a-7e98cdf9cb6f')\"\n",
              "            title=\"Convert this dataframe to an interactive table.\"\n",
              "            style=\"display:none;\">\n",
              "\n",
              "  <svg xmlns=\"http://www.w3.org/2000/svg\" height=\"24px\" viewBox=\"0 -960 960 960\">\n",
              "    <path d=\"M120-120v-720h720v720H120Zm60-500h600v-160H180v160Zm220 220h160v-160H400v160Zm0 220h160v-160H400v160ZM180-400h160v-160H180v160Zm440 0h160v-160H620v160ZM180-180h160v-160H180v160Zm440 0h160v-160H620v160Z\"/>\n",
              "  </svg>\n",
              "    </button>\n",
              "\n",
              "  <style>\n",
              "    .colab-df-container {\n",
              "      display:flex;\n",
              "      gap: 12px;\n",
              "    }\n",
              "\n",
              "    .colab-df-convert {\n",
              "      background-color: #E8F0FE;\n",
              "      border: none;\n",
              "      border-radius: 50%;\n",
              "      cursor: pointer;\n",
              "      display: none;\n",
              "      fill: #1967D2;\n",
              "      height: 32px;\n",
              "      padding: 0 0 0 0;\n",
              "      width: 32px;\n",
              "    }\n",
              "\n",
              "    .colab-df-convert:hover {\n",
              "      background-color: #E2EBFA;\n",
              "      box-shadow: 0px 1px 2px rgba(60, 64, 67, 0.3), 0px 1px 3px 1px rgba(60, 64, 67, 0.15);\n",
              "      fill: #174EA6;\n",
              "    }\n",
              "\n",
              "    .colab-df-buttons div {\n",
              "      margin-bottom: 4px;\n",
              "    }\n",
              "\n",
              "    [theme=dark] .colab-df-convert {\n",
              "      background-color: #3B4455;\n",
              "      fill: #D2E3FC;\n",
              "    }\n",
              "\n",
              "    [theme=dark] .colab-df-convert:hover {\n",
              "      background-color: #434B5C;\n",
              "      box-shadow: 0px 1px 3px 1px rgba(0, 0, 0, 0.15);\n",
              "      filter: drop-shadow(0px 1px 2px rgba(0, 0, 0, 0.3));\n",
              "      fill: #FFFFFF;\n",
              "    }\n",
              "  </style>\n",
              "\n",
              "    <script>\n",
              "      const buttonEl =\n",
              "        document.querySelector('#df-30a6d9e4-cbe0-400a-af8a-7e98cdf9cb6f button.colab-df-convert');\n",
              "      buttonEl.style.display =\n",
              "        google.colab.kernel.accessAllowed ? 'block' : 'none';\n",
              "\n",
              "      async function convertToInteractive(key) {\n",
              "        const element = document.querySelector('#df-30a6d9e4-cbe0-400a-af8a-7e98cdf9cb6f');\n",
              "        const dataTable =\n",
              "          await google.colab.kernel.invokeFunction('convertToInteractive',\n",
              "                                                    [key], {});\n",
              "        if (!dataTable) return;\n",
              "\n",
              "        const docLinkHtml = 'Like what you see? Visit the ' +\n",
              "          '<a target=\"_blank\" href=https://colab.research.google.com/notebooks/data_table.ipynb>data table notebook</a>'\n",
              "          + ' to learn more about interactive tables.';\n",
              "        element.innerHTML = '';\n",
              "        dataTable['output_type'] = 'display_data';\n",
              "        await google.colab.output.renderOutput(dataTable, element);\n",
              "        const docLink = document.createElement('div');\n",
              "        docLink.innerHTML = docLinkHtml;\n",
              "        element.appendChild(docLink);\n",
              "      }\n",
              "    </script>\n",
              "  </div>\n",
              "\n",
              "\n",
              "<div id=\"df-34f8cbd4-9020-491c-82f7-280e3a80fb77\">\n",
              "  <button class=\"colab-df-quickchart\" onclick=\"quickchart('df-34f8cbd4-9020-491c-82f7-280e3a80fb77')\"\n",
              "            title=\"Suggest charts\"\n",
              "            style=\"display:none;\">\n",
              "\n",
              "<svg xmlns=\"http://www.w3.org/2000/svg\" height=\"24px\"viewBox=\"0 0 24 24\"\n",
              "     width=\"24px\">\n",
              "    <g>\n",
              "        <path d=\"M19 3H5c-1.1 0-2 .9-2 2v14c0 1.1.9 2 2 2h14c1.1 0 2-.9 2-2V5c0-1.1-.9-2-2-2zM9 17H7v-7h2v7zm4 0h-2V7h2v10zm4 0h-2v-4h2v4z\"/>\n",
              "    </g>\n",
              "</svg>\n",
              "  </button>\n",
              "\n",
              "<style>\n",
              "  .colab-df-quickchart {\n",
              "      --bg-color: #E8F0FE;\n",
              "      --fill-color: #1967D2;\n",
              "      --hover-bg-color: #E2EBFA;\n",
              "      --hover-fill-color: #174EA6;\n",
              "      --disabled-fill-color: #AAA;\n",
              "      --disabled-bg-color: #DDD;\n",
              "  }\n",
              "\n",
              "  [theme=dark] .colab-df-quickchart {\n",
              "      --bg-color: #3B4455;\n",
              "      --fill-color: #D2E3FC;\n",
              "      --hover-bg-color: #434B5C;\n",
              "      --hover-fill-color: #FFFFFF;\n",
              "      --disabled-bg-color: #3B4455;\n",
              "      --disabled-fill-color: #666;\n",
              "  }\n",
              "\n",
              "  .colab-df-quickchart {\n",
              "    background-color: var(--bg-color);\n",
              "    border: none;\n",
              "    border-radius: 50%;\n",
              "    cursor: pointer;\n",
              "    display: none;\n",
              "    fill: var(--fill-color);\n",
              "    height: 32px;\n",
              "    padding: 0;\n",
              "    width: 32px;\n",
              "  }\n",
              "\n",
              "  .colab-df-quickchart:hover {\n",
              "    background-color: var(--hover-bg-color);\n",
              "    box-shadow: 0 1px 2px rgba(60, 64, 67, 0.3), 0 1px 3px 1px rgba(60, 64, 67, 0.15);\n",
              "    fill: var(--button-hover-fill-color);\n",
              "  }\n",
              "\n",
              "  .colab-df-quickchart-complete:disabled,\n",
              "  .colab-df-quickchart-complete:disabled:hover {\n",
              "    background-color: var(--disabled-bg-color);\n",
              "    fill: var(--disabled-fill-color);\n",
              "    box-shadow: none;\n",
              "  }\n",
              "\n",
              "  .colab-df-spinner {\n",
              "    border: 2px solid var(--fill-color);\n",
              "    border-color: transparent;\n",
              "    border-bottom-color: var(--fill-color);\n",
              "    animation:\n",
              "      spin 1s steps(1) infinite;\n",
              "  }\n",
              "\n",
              "  @keyframes spin {\n",
              "    0% {\n",
              "      border-color: transparent;\n",
              "      border-bottom-color: var(--fill-color);\n",
              "      border-left-color: var(--fill-color);\n",
              "    }\n",
              "    20% {\n",
              "      border-color: transparent;\n",
              "      border-left-color: var(--fill-color);\n",
              "      border-top-color: var(--fill-color);\n",
              "    }\n",
              "    30% {\n",
              "      border-color: transparent;\n",
              "      border-left-color: var(--fill-color);\n",
              "      border-top-color: var(--fill-color);\n",
              "      border-right-color: var(--fill-color);\n",
              "    }\n",
              "    40% {\n",
              "      border-color: transparent;\n",
              "      border-right-color: var(--fill-color);\n",
              "      border-top-color: var(--fill-color);\n",
              "    }\n",
              "    60% {\n",
              "      border-color: transparent;\n",
              "      border-right-color: var(--fill-color);\n",
              "    }\n",
              "    80% {\n",
              "      border-color: transparent;\n",
              "      border-right-color: var(--fill-color);\n",
              "      border-bottom-color: var(--fill-color);\n",
              "    }\n",
              "    90% {\n",
              "      border-color: transparent;\n",
              "      border-bottom-color: var(--fill-color);\n",
              "    }\n",
              "  }\n",
              "</style>\n",
              "\n",
              "  <script>\n",
              "    async function quickchart(key) {\n",
              "      const quickchartButtonEl =\n",
              "        document.querySelector('#' + key + ' button');\n",
              "      quickchartButtonEl.disabled = true;  // To prevent multiple clicks.\n",
              "      quickchartButtonEl.classList.add('colab-df-spinner');\n",
              "      try {\n",
              "        const charts = await google.colab.kernel.invokeFunction(\n",
              "            'suggestCharts', [key], {});\n",
              "      } catch (error) {\n",
              "        console.error('Error during call to suggestCharts:', error);\n",
              "      }\n",
              "      quickchartButtonEl.classList.remove('colab-df-spinner');\n",
              "      quickchartButtonEl.classList.add('colab-df-quickchart-complete');\n",
              "    }\n",
              "    (() => {\n",
              "      let quickchartButtonEl =\n",
              "        document.querySelector('#df-34f8cbd4-9020-491c-82f7-280e3a80fb77 button');\n",
              "      quickchartButtonEl.style.display =\n",
              "        google.colab.kernel.accessAllowed ? 'block' : 'none';\n",
              "    })();\n",
              "  </script>\n",
              "</div>\n",
              "    </div>\n",
              "  </div>\n"
            ],
            "application/vnd.google.colaboratory.intrinsic+json": {
              "type": "dataframe",
              "summary": "{\n  \"name\": \"df\",\n  \"rows\": 9,\n  \"fields\": [\n    {\n      \"column\": \"Pregnancies\",\n      \"properties\": {\n        \"dtype\": \"number\",\n        \"std\": 0.3551273944830802,\n        \"min\": -0.08167177444900726,\n        \"max\": 1.0,\n        \"num_unique_values\": 9,\n        \"samples\": [\n          0.5443412284023392,\n          0.12945867149927248,\n          0.017683090727830565\n        ],\n        \"semantic_type\": \"\",\n        \"description\": \"\"\n      }\n    },\n    {\n      \"column\": \"Glucose\",\n      \"properties\": {\n        \"dtype\": \"number\",\n        \"std\": 0.28767750976254863,\n        \"min\": 0.05732789073817692,\n        \"max\": 1.0,\n        \"num_unique_values\": 9,\n        \"samples\": [\n          0.26351431982433343,\n          1.0,\n          0.2210710694589828\n        ],\n        \"semantic_type\": \"\",\n        \"description\": \"\"\n      }\n    },\n    {\n      \"column\": \"BloodPressure\",\n      \"properties\": {\n        \"dtype\": \"number\",\n        \"std\": 0.2937568072929426,\n        \"min\": 0.04126494793009856,\n        \"max\": 1.0,\n        \"num_unique_values\": 9,\n        \"samples\": [\n          0.23952794642136344,\n          0.1525895865686646,\n          0.2818052888499109\n        ],\n        \"semantic_type\": \"\",\n        \"description\": \"\"\n      }\n    },\n    {\n      \"column\": \"SkinThickness\",\n      \"properties\": {\n        \"dtype\": \"number\",\n        \"std\": 0.3415504031654345,\n        \"min\": -0.11397026236774152,\n        \"max\": 1.0,\n        \"num_unique_values\": 9,\n        \"samples\": [\n          -0.11397026236774152,\n          0.05732789073817692,\n          0.39257320415903835\n        ],\n        \"semantic_type\": \"\",\n        \"description\": \"\"\n      }\n    },\n    {\n      \"column\": \"Insulin\",\n      \"properties\": {\n        \"dtype\": \"number\",\n        \"std\": 0.3242652539286031,\n        \"min\": -0.07353461435162822,\n        \"max\": 1.0,\n        \"num_unique_values\": 9,\n        \"samples\": [\n          -0.04216295473537695,\n          0.3313571099202092,\n          0.19785905649310145\n        ],\n        \"semantic_type\": \"\",\n        \"description\": \"\"\n      }\n    },\n    {\n      \"column\": \"BMI\",\n      \"properties\": {\n        \"dtype\": \"number\",\n        \"std\": 0.29340599982594495,\n        \"min\": 0.017683090727830565,\n        \"max\": 1.0,\n        \"num_unique_values\": 9,\n        \"samples\": [\n          0.03624187009229395,\n          0.2210710694589828,\n          1.0\n        ],\n        \"semantic_type\": \"\",\n        \"description\": \"\"\n      }\n    },\n    {\n      \"column\": \"DiabetesPedigreeFunction\",\n      \"properties\": {\n        \"dtype\": \"number\",\n        \"std\": 0.3073307082237146,\n        \"min\": -0.03352267296261304,\n        \"max\": 1.0,\n        \"num_unique_values\": 9,\n        \"samples\": [\n          0.03356131243480539,\n          0.13733729982837092,\n          0.14064695254510523\n        ],\n        \"semantic_type\": \"\",\n        \"description\": \"\"\n      }\n    },\n    {\n      \"column\": \"Age\",\n      \"properties\": {\n        \"dtype\": \"number\",\n        \"std\": 0.3463473783514741,\n        \"min\": -0.11397026236774152,\n        \"max\": 1.0,\n        \"num_unique_values\": 9,\n        \"samples\": [\n          1.0,\n          0.26351431982433343,\n          0.03624187009229395\n        ],\n        \"semantic_type\": \"\",\n        \"description\": \"\"\n      }\n    },\n    {\n      \"column\": \"Outcome\",\n      \"properties\": {\n        \"dtype\": \"number\",\n        \"std\": 0.2911432844711856,\n        \"min\": 0.06506835955033277,\n        \"max\": 1.0,\n        \"num_unique_values\": 9,\n        \"samples\": [\n          0.23835598302719757,\n          0.46658139830687373,\n          0.2926946626444454\n        ],\n        \"semantic_type\": \"\",\n        \"description\": \"\"\n      }\n    }\n  ]\n}"
            }
          },
          "metadata": {},
          "execution_count": 117
        }
      ],
      "source": [
        "df.corr()"
      ]
    },
    {
      "cell_type": "markdown",
      "id": "3eb2e719",
      "metadata": {
        "papermill": {
          "duration": 0.043189,
          "end_time": "2023-01-03T17:01:14.205405",
          "exception": false,
          "start_time": "2023-01-03T17:01:14.162216",
          "status": "completed"
        },
        "tags": [],
        "id": "3eb2e719"
      },
      "source": [
        "<span style=\"color:blue;font-weight:700;font-size:30px\">\n",
        " Selecting features\n",
        "</span>"
      ]
    },
    {
      "cell_type": "code",
      "execution_count": 118,
      "id": "f717bbe7",
      "metadata": {
        "execution": {
          "iopub.execute_input": "2023-01-03T17:01:14.292084Z",
          "iopub.status.busy": "2023-01-03T17:01:14.291683Z",
          "iopub.status.idle": "2023-01-03T17:01:14.298407Z",
          "shell.execute_reply": "2023-01-03T17:01:14.297015Z"
        },
        "papermill": {
          "duration": 0.04927,
          "end_time": "2023-01-03T17:01:14.300668",
          "exception": false,
          "start_time": "2023-01-03T17:01:14.251398",
          "status": "completed"
        },
        "tags": [],
        "id": "f717bbe7"
      },
      "outputs": [],
      "source": [
        "X = pd.DataFrame (data , columns = [\"Pregnancies\" , \"Glucose\" , \"BloodPressure\" , \"SkinThickness\" , \"Insulin\" , \"BMI\"\n",
        "                                   , \"DiabetesPedigreeFunction\" , \"Age\"]) # Features\n",
        "y = data.Outcome # Target variables"
      ]
    },
    {
      "cell_type": "code",
      "execution_count": 119,
      "id": "31ddf895",
      "metadata": {
        "execution": {
          "iopub.execute_input": "2023-01-03T17:01:14.656608Z",
          "iopub.status.busy": "2023-01-03T17:01:14.656157Z",
          "iopub.status.idle": "2023-01-03T17:01:14.664771Z",
          "shell.execute_reply": "2023-01-03T17:01:14.663533Z"
        },
        "papermill": {
          "duration": 0.047435,
          "end_time": "2023-01-03T17:01:14.667089",
          "exception": false,
          "start_time": "2023-01-03T17:01:14.619654",
          "status": "completed"
        },
        "tags": [],
        "colab": {
          "base_uri": "https://localhost:8080/"
        },
        "id": "31ddf895",
        "outputId": "b1904abd-5b16-43da-c2b9-9db821f121a8"
      },
      "outputs": [
        {
          "output_type": "execute_result",
          "data": {
            "text/plain": [
              "65.10416666666666"
            ]
          },
          "metadata": {},
          "execution_count": 119
        }
      ],
      "source": [
        "# Percentage\n",
        "((y == 0).sum ()/len (y)) * 100"
      ]
    },
    {
      "cell_type": "markdown",
      "id": "4254e701",
      "metadata": {
        "execution": {
          "iopub.execute_input": "2022-09-07T15:44:13.073164Z",
          "iopub.status.busy": "2022-09-07T15:44:13.072690Z",
          "iopub.status.idle": "2022-09-07T15:44:13.078875Z",
          "shell.execute_reply": "2022-09-07T15:44:13.077843Z",
          "shell.execute_reply.started": "2022-09-07T15:44:13.073119Z"
        },
        "papermill": {
          "duration": 0.034511,
          "end_time": "2023-01-03T17:01:14.736249",
          "exception": false,
          "start_time": "2023-01-03T17:01:14.701738",
          "status": "completed"
        },
        "tags": [],
        "id": "4254e701"
      },
      "source": [
        "<span style=\"color:blue;font-weight:700;font-size:25px\">\n",
        "    Split X and y into training and testing sets\n",
        "</span>"
      ]
    },
    {
      "cell_type": "code",
      "execution_count": 120,
      "id": "5bf0ae52",
      "metadata": {
        "execution": {
          "iopub.execute_input": "2023-01-03T17:01:14.807443Z",
          "iopub.status.busy": "2023-01-03T17:01:14.806168Z",
          "iopub.status.idle": "2023-01-03T17:01:14.812937Z",
          "shell.execute_reply": "2023-01-03T17:01:14.812022Z"
        },
        "papermill": {
          "duration": 0.044929,
          "end_time": "2023-01-03T17:01:14.815147",
          "exception": false,
          "start_time": "2023-01-03T17:01:14.770218",
          "status": "completed"
        },
        "tags": [],
        "id": "5bf0ae52"
      },
      "outputs": [],
      "source": [
        "# Training = 75 , Testing = 25\n",
        "\n",
        "X_train , X_test , y_train , y_test = train_test_split (X , y , test_size = 0.25 , random_state = 0)"
      ]
    },
    {
      "cell_type": "code",
      "execution_count": 121,
      "id": "ec082a2c",
      "metadata": {
        "execution": {
          "iopub.execute_input": "2023-01-03T17:01:14.886452Z",
          "iopub.status.busy": "2023-01-03T17:01:14.885981Z",
          "iopub.status.idle": "2023-01-03T17:01:14.905874Z",
          "shell.execute_reply": "2023-01-03T17:01:14.904618Z"
        },
        "papermill": {
          "duration": 0.058989,
          "end_time": "2023-01-03T17:01:14.909073",
          "exception": false,
          "start_time": "2023-01-03T17:01:14.850084",
          "status": "completed"
        },
        "tags": [],
        "id": "ec082a2c"
      },
      "outputs": [],
      "source": [
        "logreg = LogisticRegression (solver = \"liblinear\")\n",
        "\n",
        "logreg.fit (X_train , y_train)                     # Fitting a  model\n",
        "y_pred = logreg.predict(X_test)                    # Predicted class labels from test features\n",
        "y_predicted_proba = logreg.predict_proba(X_test)   # Predicted probabilities from test features"
      ]
    },
    {
      "cell_type": "code",
      "execution_count": 122,
      "id": "1959ebe3",
      "metadata": {
        "execution": {
          "iopub.execute_input": "2023-01-03T17:01:14.979282Z",
          "iopub.status.busy": "2023-01-03T17:01:14.978829Z",
          "iopub.status.idle": "2023-01-03T17:01:14.986923Z",
          "shell.execute_reply": "2023-01-03T17:01:14.985470Z"
        },
        "papermill": {
          "duration": 0.047296,
          "end_time": "2023-01-03T17:01:14.990324",
          "exception": false,
          "start_time": "2023-01-03T17:01:14.943028",
          "status": "completed"
        },
        "tags": [],
        "colab": {
          "base_uri": "https://localhost:8080/"
        },
        "id": "1959ebe3",
        "outputId": "582cf286-b177-4d9e-a714-a3f428e637e6"
      },
      "outputs": [
        {
          "output_type": "stream",
          "name": "stdout",
          "text": [
            "Accuracy:  0.8072916666666666\n"
          ]
        }
      ],
      "source": [
        "print (\"Accuracy: \" , metrics.accuracy_score (y_test , y_pred))"
      ]
    },
    {
      "cell_type": "markdown",
      "source": [
        "The model has achieved an accuracy of 80%"
      ],
      "metadata": {
        "id": "B1aDVsMZzfxE"
      },
      "id": "B1aDVsMZzfxE"
    },
    {
      "cell_type": "code",
      "source": [],
      "metadata": {
        "id": "ou7GGt4V0nmj"
      },
      "id": "ou7GGt4V0nmj",
      "execution_count": null,
      "outputs": []
    }
  ],
  "metadata": {
    "kernelspec": {
      "display_name": "Python 3",
      "language": "python",
      "name": "python3"
    },
    "language_info": {
      "codemirror_mode": {
        "name": "ipython",
        "version": 3
      },
      "file_extension": ".py",
      "mimetype": "text/x-python",
      "name": "python",
      "nbconvert_exporter": "python",
      "pygments_lexer": "ipython3",
      "version": "3.7.12"
    },
    "papermill": {
      "default_parameters": {},
      "duration": 36.299371,
      "end_time": "2023-01-03T17:01:17.624957",
      "environment_variables": {},
      "exception": null,
      "input_path": "__notebook__.ipynb",
      "output_path": "__notebook__.ipynb",
      "parameters": {},
      "start_time": "2023-01-03T17:00:41.325586",
      "version": "2.3.4"
    },
    "colab": {
      "provenance": []
    }
  },
  "nbformat": 4,
  "nbformat_minor": 5
}
